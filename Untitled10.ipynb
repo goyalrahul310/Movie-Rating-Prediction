{
 "cells": [
  {
   "cell_type": "code",
   "execution_count": 0,
   "metadata": {
    "colab": {
     "base_uri": "https://localhost:8080/"
    },
    "colab_type": "code",
    "id": "TvCZgjITeZHf",
    "outputId": "6f838c02-a3e1-4a5f-a315-1ea2794c1248"
   },
   "outputs": [
    {
     "name": "stdout",
     "output_type": "stream",
     "text": [
      "[nltk_data] Downloading package punkt to /root/nltk_data...\n",
      "[nltk_data]   Package punkt is already up-to-date!\n"
     ]
    },
    {
     "data": {
      "text/plain": [
       "True"
      ]
     },
     "execution_count": 32,
     "metadata": {
      "tags": []
     },
     "output_type": "execute_result"
    }
   ],
   "source": [
    "import pandas as pd\n",
    "from sklearn.preprocessing import LabelEncoder\n",
    "import nltk\n",
    "nltk.download('punkt')"
   ]
  },
  {
   "cell_type": "code",
   "execution_count": 0,
   "metadata": {
    "colab": {},
    "colab_type": "code",
    "id": "Ujjq3Vusol5P"
   },
   "outputs": [],
   "source": [
    "#importing training file\n",
    "data = pd.read_csv(\"/content/Train.csv\")"
   ]
  },
  {
   "cell_type": "code",
   "execution_count": 0,
   "metadata": {
    "colab": {},
    "colab_type": "code",
    "id": "wFvCqG3eeZHm"
   },
   "outputs": [],
   "source": [
    "# transforming the content of output \n",
    "y = data['label']\n",
    "y = y[:20000]\n",
    "le = LabelEncoder()\n",
    "ytrain = le.fit_transform(y)"
   ]
  },
  {
   "cell_type": "code",
   "execution_count": 0,
   "metadata": {
    "colab": {
     "base_uri": "https://localhost:8080/"
    },
    "colab_type": "code",
    "id": "eHdhq_lieZHr",
    "outputId": "677ddc83-ac6d-494e-a964-cfaad1dd1d8b"
   },
   "outputs": [
    {
     "name": "stdout",
     "output_type": "stream",
     "text": [
      "0        pos\n",
      "1        pos\n",
      "2        pos\n",
      "3        pos\n",
      "4        pos\n",
      "5        pos\n",
      "6        neg\n",
      "7        neg\n",
      "8        pos\n",
      "9        pos\n",
      "10       neg\n",
      "11       pos\n",
      "12       pos\n",
      "13       neg\n",
      "14       pos\n",
      "15       pos\n",
      "16       pos\n",
      "17       neg\n",
      "18       pos\n",
      "19       pos\n",
      "20       neg\n",
      "21       pos\n",
      "22       pos\n",
      "23       neg\n",
      "24       pos\n",
      "25       pos\n",
      "26       pos\n",
      "27       neg\n",
      "28       pos\n",
      "29       pos\n",
      "        ... \n",
      "19970    pos\n",
      "19971    neg\n",
      "19972    neg\n",
      "19973    pos\n",
      "19974    neg\n",
      "19975    neg\n",
      "19976    pos\n",
      "19977    pos\n",
      "19978    pos\n",
      "19979    pos\n",
      "19980    neg\n",
      "19981    neg\n",
      "19982    pos\n",
      "19983    pos\n",
      "19984    pos\n",
      "19985    neg\n",
      "19986    pos\n",
      "19987    neg\n",
      "19988    pos\n",
      "19989    pos\n",
      "19990    pos\n",
      "19991    pos\n",
      "19992    neg\n",
      "19993    pos\n",
      "19994    neg\n",
      "19995    pos\n",
      "19996    pos\n",
      "19997    pos\n",
      "19998    neg\n",
      "19999    neg\n",
      "Name: label, Length: 20000, dtype: object\n"
     ]
    },
    {
     "data": {
      "text/plain": [
       "array([1, 1, 1, ..., 1, 0, 0])"
      ]
     },
     "execution_count": 35,
     "metadata": {
      "tags": []
     },
     "output_type": "execute_result"
    }
   ],
   "source": [
    "#output before and after fit transform\n",
    "print(y)\n",
    "print(ytrain)"
   ]
  },
  {
   "cell_type": "code",
   "execution_count": 0,
   "metadata": {
    "colab": {
     "base_uri": "https://localhost:8080/"
    },
    "colab_type": "code",
    "id": "MIa9WYAmeZHy",
    "outputId": "8f7b4597-e345-4d59-9148-ce016abce85d"
   },
   "outputs": [
    {
     "data": {
      "text/plain": [
       "20000"
      ]
     },
     "execution_count": 36,
     "metadata": {
      "tags": []
     },
     "output_type": "execute_result"
    }
   ],
   "source": [
    "# Input of the training file\n",
    "data_review = data['review']\n",
    "data_ =  data_review[:20000]\n",
    "len(data_)"
   ]
  },
  {
   "cell_type": "code",
   "execution_count": 0,
   "metadata": {
    "colab": {},
    "colab_type": "code",
    "id": "wLNkiGrFeZH4"
   },
   "outputs": [],
   "source": [
    "# nltk module used for filtering the data\n",
    "from nltk.tokenize import word_tokenize\n",
    "from nltk.stem.porter import PorterStemmer\n",
    "from nltk.corpus import stopwords"
   ]
  },
  {
   "cell_type": "code",
   "execution_count": 0,
   "metadata": {
    "colab": {
     "base_uri": "https://localhost:8080/"
    },
    "colab_type": "code",
    "id": "lUv2s14eeZH8",
    "outputId": "298e6705-6d9a-4638-9dbd-94edc57fbcec"
   },
   "outputs": [
    {
     "name": "stdout",
     "output_type": "stream",
     "text": [
      "[nltk_data] Downloading package stopwords to /root/nltk_data...\n",
      "[nltk_data]   Package stopwords is already up-to-date!\n"
     ]
    }
   ],
   "source": [
    "import nltk\n",
    "nltk.download('stopwords')\n",
    "sw = set(stopwords.words('english'))\n",
    "ps= PorterStemmer()"
   ]
  },
  {
   "cell_type": "code",
   "execution_count": 0,
   "metadata": {
    "colab": {},
    "colab_type": "code",
    "id": "Dagp-i9beZIA"
   },
   "outputs": [],
   "source": [
    "# function used for cleaning the data\n",
    "def clean(rev):\n",
    "    rev = rev.lower()\n",
    "    rev = rev.replace(\"<br /><br />\",\"\")\n",
    "    t = word_tokenize(rev)\n",
    "    t_ = [token for token in t if token not in sw]\n",
    "    s = [ps.stem(token) for token in t_]\n",
    "    word = \" \".join(s)\n",
    "    \n",
    "    return word\n",
    "    \n",
    "    \n",
    "    "
   ]
  },
  {
   "cell_type": "code",
   "execution_count": 0,
   "metadata": {
    "colab": {},
    "colab_type": "code",
    "id": "YnU9gC-YeZID"
   },
   "outputs": [],
   "source": [
    "# function used for cleaning the entire data\n",
    "def getclean(data):\n",
    "    for i in range(len(data)):\n",
    "        data[i] = clean(data[i])\n",
    "    return data"
   ]
  },
  {
   "cell_type": "code",
   "execution_count": 0,
   "metadata": {
    "colab": {},
    "colab_type": "code",
    "id": "AuqzncpUeZIH"
   },
   "outputs": [],
   "source": [
    "new_data = getclean(data_)\n"
   ]
  },
  {
   "cell_type": "code",
   "execution_count": 0,
   "metadata": {
    "colab": {
     "base_uri": "https://localhost:8080/"
    },
    "colab_type": "code",
    "id": "xzNswBbAeZIL",
    "outputId": "1512bda7-299a-4453-f0ad-b70e8abead48"
   },
   "outputs": [
    {
     "data": {
      "text/plain": [
       "0        matur intellig highli charg melodrama unbelive...\n",
       "1        http : //video.google.com/videoplay ? docid=21...\n",
       "2        titl : opera ( 1987 ) director : dario argento...\n",
       "3        think lot peopl wrote anoth one tom cruis 's w...\n",
       "4        stori two dog cat look way back home.old wise ...\n",
       "5        steve carel come first star role 40 year old v...\n",
       "6        'm go write 's requir . howev , summari put to...\n",
       "7        ok , `` riski '' move rent flick , thought not...\n",
       "8        cannib , pair cinemat refer delicatessen , plo...\n",
       "9        one great modern kung fu film . lot review see...\n",
       "10       steve martin look like 's face lift . someth s...\n",
       "11       robert jordan televis star . robert jordan lik...\n",
       "12       probabl best comedi long time . keep laugh non...\n",
       "13       earlier review pretti much target , altman fil...\n",
       "14       depress mani peopl n't understand movi . get c...\n",
       "15       , like murder wrote , one show , stress day sc...\n",
       "16       film sleeper rod steiger 's big name credit . ...\n",
       "17       give director stanley tong jacki chan 's super...\n",
       "18       anoth favorit columbo . sport top-notch cast ,...\n",
       "19       film brilliant ... ... without doubt . watch a...\n",
       "20       `` soul plane '' horribl attempt comedi appeal...\n",
       "21       `` parti girl '' capit tremend charm parker po...\n",
       "22       n't seen mani peopl pack outsid theater sinc s...\n",
       "23       kevin spacey without doubt one best actor 90 ....\n",
       "24       love film ! ! mayb gener realli connect talk m...\n",
       "25       first time saw film kid . ten year old releas ...\n",
       "26       movi simpli awesom . hilari . although skate m...\n",
       "27       movi horribl . swear n't even write script kin...\n",
       "28       two thing happen ensembl cast brought togeth ....\n",
       "29       rever studi film , classic among hitchcock 's ...\n",
       "                               ...                        \n",
       "19970    guy doll one favorit music movi ever . fun mov...\n",
       "19971    legend gala hollywood premier screen 2001 : sp...\n",
       "19972    lot review , includ mani whose opinion respect...\n",
       "19973    movi realli well written entertaining.ther gre...\n",
       "19974    huge horror movi fan , one difficult thing con...\n",
       "19975    scientifically-engin super-dog suppos answer p...\n",
       "19976    all-tim favorit movi ! seen mani movi , one be...\n",
       "19977    life compris infinit possibl ; known , other m...\n",
       "19978    seen 'the sea within ' today love . actor movi...\n",
       "19979    religi bigotri rampant everywher . australia i...\n",
       "19980    ned akelli import stori australian movi aw . '...\n",
       "19981    feel like 'm kid town annoy branagh 's perform...\n",
       "19982    magnet radiat elvira , draw legion devot admir...\n",
       "19983    approxim 34-second thoma edison-produc short ,...\n",
       "19984    anoth great episod season 11 south park . cart...\n",
       "19985    must rank one cinema 's greatest debacl . wand...\n",
       "19986    titl got attent wonder come plot , seen mani `...\n",
       "19987    saw video . predict , horrid act , film flub ....\n",
       "19988    falcon snowman base true stori . christoph boy...\n",
       "19989    nostalgia n't alway best reason watch movi . o...\n",
       "19990    touch sad movi . portray trial tribul writer t...\n",
       "19991    written , produc direct charli chaplin , great...\n",
       "19992    ( warn : spoiler ahead . ) incred crappi movi ...\n",
       "19993    wife , kate absolut love seri ca n't wait next...\n",
       "19994    take camera man work republ studio 1946 1950 w...\n",
       "19995    'oldboy ' director park chun-wook return must ...\n",
       "19996    ca n't rememb mani detail show , rememb passio...\n",
       "19997    peopl realiz , world literatur ancient world g...\n",
       "19998    1999 go histori year movi critic lead gener pu...\n",
       "19999    matthia hue cover $ 3.00 , buy . enjoy moment ...\n",
       "Name: review, Length: 20000, dtype: object"
      ]
     },
     "execution_count": 42,
     "metadata": {
      "tags": []
     },
     "output_type": "execute_result"
    }
   ],
   "source": [
    "# The cleaned input of the training file\n",
    "new_data"
   ]
  },
  {
   "cell_type": "code",
   "execution_count": 0,
   "metadata": {
    "colab": {},
    "colab_type": "code",
    "id": "Zml8HMKTeZIV"
   },
   "outputs": [],
   "source": [
    "#vectorization of the text(converting text in the format of vector)"
   ]
  },
  {
   "cell_type": "code",
   "execution_count": 0,
   "metadata": {
    "colab": {},
    "colab_type": "code",
    "id": "lCTIcd4aeZIa"
   },
   "outputs": [],
   "source": [
    "from sklearn.feature_extraction.text import CountVectorizer"
   ]
  },
  {
   "cell_type": "code",
   "execution_count": 0,
   "metadata": {
    "colab": {},
    "colab_type": "code",
    "id": "5mdK8N3AeZIe"
   },
   "outputs": [],
   "source": [
    "cv = CountVectorizer(max_features = 15000)\n",
    "x_vec = cv.fit_transform(new_data).toarray()"
   ]
  },
  {
   "cell_type": "code",
   "execution_count": 0,
   "metadata": {
    "colab": {
     "base_uri": "https://localhost:8080/",
     "height": 34
    },
    "colab_type": "code",
    "id": "OIcaNQk9eZIh",
    "outputId": "66ad00fb-035d-4ce1-e07a-83a83eba8b54"
   },
   "outputs": [
    {
     "data": {
      "text/plain": [
       "(20000, 55087)"
      ]
     },
     "execution_count": 69,
     "metadata": {
      "tags": []
     },
     "output_type": "execute_result"
    }
   ],
   "source": [
    "x_vec.shape"
   ]
  },
  {
   "cell_type": "code",
   "execution_count": 0,
   "metadata": {
    "colab": {},
    "colab_type": "code",
    "id": "nz4wb3wjeZIk"
   },
   "outputs": [],
   "source": [
    "#testdata"
   ]
  },
  {
   "cell_type": "code",
   "execution_count": 0,
   "metadata": {
    "colab": {
     "base_uri": "https://localhost:8080/",
     "height": 1000
    },
    "colab_type": "code",
    "id": "3QWotz7LeZIn",
    "outputId": "36b83cf9-9f35-4571-a890-5fd61f8d4fbc"
   },
   "outputs": [
    {
     "data": {
      "text/html": [
       "<div>\n",
       "<style scoped>\n",
       "    .dataframe tbody tr th:only-of-type {\n",
       "        vertical-align: middle;\n",
       "    }\n",
       "\n",
       "    .dataframe tbody tr th {\n",
       "        vertical-align: top;\n",
       "    }\n",
       "\n",
       "    .dataframe thead th {\n",
       "        text-align: right;\n",
       "    }\n",
       "</style>\n",
       "<table border=\"1\" class=\"dataframe\">\n",
       "  <thead>\n",
       "    <tr style=\"text-align: right;\">\n",
       "      <th></th>\n",
       "      <th>review</th>\n",
       "    </tr>\n",
       "  </thead>\n",
       "  <tbody>\n",
       "    <tr>\n",
       "      <th>0</th>\n",
       "      <td>Remember those old kung fu movies we used to w...</td>\n",
       "    </tr>\n",
       "    <tr>\n",
       "      <th>1</th>\n",
       "      <td>This movie is another one on my List of Movies...</td>\n",
       "    </tr>\n",
       "    <tr>\n",
       "      <th>2</th>\n",
       "      <td>How in the world does a thing like this get in...</td>\n",
       "    </tr>\n",
       "    <tr>\n",
       "      <th>3</th>\n",
       "      <td>\"Queen of the Damned\" is one of the best vampi...</td>\n",
       "    </tr>\n",
       "    <tr>\n",
       "      <th>4</th>\n",
       "      <td>The Caprica episode (S01E01) is well done as a...</td>\n",
       "    </tr>\n",
       "    <tr>\n",
       "      <th>5</th>\n",
       "      <td>I usually really enjoy Steven Seagal movies. T...</td>\n",
       "    </tr>\n",
       "    <tr>\n",
       "      <th>6</th>\n",
       "      <td>JiÃ¸Ã­ Trnka made his last animated short an i...</td>\n",
       "    </tr>\n",
       "    <tr>\n",
       "      <th>7</th>\n",
       "      <td>This is so bad it will be my contribution to t...</td>\n",
       "    </tr>\n",
       "    <tr>\n",
       "      <th>8</th>\n",
       "      <td>Watching this hilariously retro but very enter...</td>\n",
       "    </tr>\n",
       "    <tr>\n",
       "      <th>9</th>\n",
       "      <td>Excellent political thriller, played much quie...</td>\n",
       "    </tr>\n",
       "    <tr>\n",
       "      <th>10</th>\n",
       "      <td>*some spoilers*&lt;br /&gt;&lt;br /&gt;I was pleasantly su...</td>\n",
       "    </tr>\n",
       "    <tr>\n",
       "      <th>11</th>\n",
       "      <td>Chaplin was great a silent comedian, but many ...</td>\n",
       "    </tr>\n",
       "    <tr>\n",
       "      <th>12</th>\n",
       "      <td>Just Cause takes some of the best parts of thr...</td>\n",
       "    </tr>\n",
       "    <tr>\n",
       "      <th>13</th>\n",
       "      <td>I found Horrorvision almost unwatchable. While...</td>\n",
       "    </tr>\n",
       "    <tr>\n",
       "      <th>14</th>\n",
       "      <td>Clint Howard, brother of more talented Ron, st...</td>\n",
       "    </tr>\n",
       "    <tr>\n",
       "      <th>15</th>\n",
       "      <td>According to the book The Last of the Cowboy H...</td>\n",
       "    </tr>\n",
       "    <tr>\n",
       "      <th>16</th>\n",
       "      <td>I saw this movie the other night and I have to...</td>\n",
       "    </tr>\n",
       "    <tr>\n",
       "      <th>17</th>\n",
       "      <td>A quite good film version of the novel, though...</td>\n",
       "    </tr>\n",
       "    <tr>\n",
       "      <th>18</th>\n",
       "      <td>Jesse yet again delivers, after almost 12 mont...</td>\n",
       "    </tr>\n",
       "    <tr>\n",
       "      <th>19</th>\n",
       "      <td>And obviously I didn't see it! &lt;br /&gt;&lt;br /&gt;But...</td>\n",
       "    </tr>\n",
       "    <tr>\n",
       "      <th>20</th>\n",
       "      <td>An unfunny, unworthy picture which is an undes...</td>\n",
       "    </tr>\n",
       "    <tr>\n",
       "      <th>21</th>\n",
       "      <td>I caught this for the first time a few nights ...</td>\n",
       "    </tr>\n",
       "    <tr>\n",
       "      <th>22</th>\n",
       "      <td>I just saw this movie at the Berlin Film Festi...</td>\n",
       "    </tr>\n",
       "    <tr>\n",
       "      <th>23</th>\n",
       "      <td>First of all..I've seen better acting and more...</td>\n",
       "    </tr>\n",
       "    <tr>\n",
       "      <th>24</th>\n",
       "      <td>I watched this movie on video the other night ...</td>\n",
       "    </tr>\n",
       "    <tr>\n",
       "      <th>25</th>\n",
       "      <td>Probably the worst Bollywood film I've seen.&lt;b...</td>\n",
       "    </tr>\n",
       "    <tr>\n",
       "      <th>26</th>\n",
       "      <td>GAME.... Huh... game. I'm not even sure the bl...</td>\n",
       "    </tr>\n",
       "    <tr>\n",
       "      <th>27</th>\n",
       "      <td>I'll start off right at the beginning by sayin...</td>\n",
       "    </tr>\n",
       "    <tr>\n",
       "      <th>28</th>\n",
       "      <td>Before seeing the sneak preview today of Angel...</td>\n",
       "    </tr>\n",
       "    <tr>\n",
       "      <th>29</th>\n",
       "      <td>Meet Cosmo (Jason Priestley), a nerdy young bo...</td>\n",
       "    </tr>\n",
       "    <tr>\n",
       "      <th>...</th>\n",
       "      <td>...</td>\n",
       "    </tr>\n",
       "    <tr>\n",
       "      <th>9970</th>\n",
       "      <td>Even those of us who like cute animal pictures...</td>\n",
       "    </tr>\n",
       "    <tr>\n",
       "      <th>9971</th>\n",
       "      <td>The movie was better than what i expected. I w...</td>\n",
       "    </tr>\n",
       "    <tr>\n",
       "      <th>9972</th>\n",
       "      <td>In August Days/Dies d'agost Marc Recha has giv...</td>\n",
       "    </tr>\n",
       "    <tr>\n",
       "      <th>9973</th>\n",
       "      <td>My friend and I picked \"Paperhouse\" out of a r...</td>\n",
       "    </tr>\n",
       "    <tr>\n",
       "      <th>9974</th>\n",
       "      <td>To be totally honest I wasn't expecting much a...</td>\n",
       "    </tr>\n",
       "    <tr>\n",
       "      <th>9975</th>\n",
       "      <td>it was a very well written movie, and the acto...</td>\n",
       "    </tr>\n",
       "    <tr>\n",
       "      <th>9976</th>\n",
       "      <td>Looking back on Jim Henson's works years after...</td>\n",
       "    </tr>\n",
       "    <tr>\n",
       "      <th>9977</th>\n",
       "      <td>Oliver Gruner is totally unknown to me. My fri...</td>\n",
       "    </tr>\n",
       "    <tr>\n",
       "      <th>9978</th>\n",
       "      <td>heres a fun fact, I was the baby in the movie,...</td>\n",
       "    </tr>\n",
       "    <tr>\n",
       "      <th>9979</th>\n",
       "      <td>This movie would had worked much better if thi...</td>\n",
       "    </tr>\n",
       "    <tr>\n",
       "      <th>9980</th>\n",
       "      <td>An art teacher comes across an antique wooden ...</td>\n",
       "    </tr>\n",
       "    <tr>\n",
       "      <th>9981</th>\n",
       "      <td>Every now and then a film maker brings to life...</td>\n",
       "    </tr>\n",
       "    <tr>\n",
       "      <th>9982</th>\n",
       "      <td>I always thought my father had a second life a...</td>\n",
       "    </tr>\n",
       "    <tr>\n",
       "      <th>9983</th>\n",
       "      <td>If you are going to attempt building tension i...</td>\n",
       "    </tr>\n",
       "    <tr>\n",
       "      <th>9984</th>\n",
       "      <td>Remember when Rick Mercer was funny? 22 Minute...</td>\n",
       "    </tr>\n",
       "    <tr>\n",
       "      <th>9985</th>\n",
       "      <td>This short subject is a remake of the Three St...</td>\n",
       "    </tr>\n",
       "    <tr>\n",
       "      <th>9986</th>\n",
       "      <td>&lt;br /&gt;&lt;br /&gt;\"After dark, my sweet\" is a strang...</td>\n",
       "    </tr>\n",
       "    <tr>\n",
       "      <th>9987</th>\n",
       "      <td>I really appreciate what Jung-won had done bef...</td>\n",
       "    </tr>\n",
       "    <tr>\n",
       "      <th>9988</th>\n",
       "      <td>I remember this film, exhibit in Barcelona (Sp...</td>\n",
       "    </tr>\n",
       "    <tr>\n",
       "      <th>9989</th>\n",
       "      <td>\"Cinderella\" is one of the most beloved of all...</td>\n",
       "    </tr>\n",
       "    <tr>\n",
       "      <th>9990</th>\n",
       "      <td>Running out of films to rent, I picked up Free...</td>\n",
       "    </tr>\n",
       "    <tr>\n",
       "      <th>9991</th>\n",
       "      <td>\"World's Finest\" is an unique project. It's a ...</td>\n",
       "    </tr>\n",
       "    <tr>\n",
       "      <th>9992</th>\n",
       "      <td>This movie deviated from the Bible and fell so...</td>\n",
       "    </tr>\n",
       "    <tr>\n",
       "      <th>9993</th>\n",
       "      <td>Be careful with this one. Once you get yer mit...</td>\n",
       "    </tr>\n",
       "    <tr>\n",
       "      <th>9994</th>\n",
       "      <td>God! Where do I begin? From start to finish, I...</td>\n",
       "    </tr>\n",
       "    <tr>\n",
       "      <th>9995</th>\n",
       "      <td>Watched this piece ONDEMAND because the descri...</td>\n",
       "    </tr>\n",
       "    <tr>\n",
       "      <th>9996</th>\n",
       "      <td>A nurse travels to a rural psychiatric clinic ...</td>\n",
       "    </tr>\n",
       "    <tr>\n",
       "      <th>9997</th>\n",
       "      <td>Although this small film kind of got lost in t...</td>\n",
       "    </tr>\n",
       "    <tr>\n",
       "      <th>9998</th>\n",
       "      <td>I first saw this film in the early 80's on cab...</td>\n",
       "    </tr>\n",
       "    <tr>\n",
       "      <th>9999</th>\n",
       "      <td>Recognizing the picture of the diner on the co...</td>\n",
       "    </tr>\n",
       "  </tbody>\n",
       "</table>\n",
       "<p>10000 rows × 1 columns</p>\n",
       "</div>"
      ],
      "text/plain": [
       "                                                 review\n",
       "0     Remember those old kung fu movies we used to w...\n",
       "1     This movie is another one on my List of Movies...\n",
       "2     How in the world does a thing like this get in...\n",
       "3     \"Queen of the Damned\" is one of the best vampi...\n",
       "4     The Caprica episode (S01E01) is well done as a...\n",
       "5     I usually really enjoy Steven Seagal movies. T...\n",
       "6     JiÃ¸Ã­ Trnka made his last animated short an i...\n",
       "7     This is so bad it will be my contribution to t...\n",
       "8     Watching this hilariously retro but very enter...\n",
       "9     Excellent political thriller, played much quie...\n",
       "10    *some spoilers*<br /><br />I was pleasantly su...\n",
       "11    Chaplin was great a silent comedian, but many ...\n",
       "12    Just Cause takes some of the best parts of thr...\n",
       "13    I found Horrorvision almost unwatchable. While...\n",
       "14    Clint Howard, brother of more talented Ron, st...\n",
       "15    According to the book The Last of the Cowboy H...\n",
       "16    I saw this movie the other night and I have to...\n",
       "17    A quite good film version of the novel, though...\n",
       "18    Jesse yet again delivers, after almost 12 mont...\n",
       "19    And obviously I didn't see it! <br /><br />But...\n",
       "20    An unfunny, unworthy picture which is an undes...\n",
       "21    I caught this for the first time a few nights ...\n",
       "22    I just saw this movie at the Berlin Film Festi...\n",
       "23    First of all..I've seen better acting and more...\n",
       "24    I watched this movie on video the other night ...\n",
       "25    Probably the worst Bollywood film I've seen.<b...\n",
       "26    GAME.... Huh... game. I'm not even sure the bl...\n",
       "27    I'll start off right at the beginning by sayin...\n",
       "28    Before seeing the sneak preview today of Angel...\n",
       "29    Meet Cosmo (Jason Priestley), a nerdy young bo...\n",
       "...                                                 ...\n",
       "9970  Even those of us who like cute animal pictures...\n",
       "9971  The movie was better than what i expected. I w...\n",
       "9972  In August Days/Dies d'agost Marc Recha has giv...\n",
       "9973  My friend and I picked \"Paperhouse\" out of a r...\n",
       "9974  To be totally honest I wasn't expecting much a...\n",
       "9975  it was a very well written movie, and the acto...\n",
       "9976  Looking back on Jim Henson's works years after...\n",
       "9977  Oliver Gruner is totally unknown to me. My fri...\n",
       "9978  heres a fun fact, I was the baby in the movie,...\n",
       "9979  This movie would had worked much better if thi...\n",
       "9980  An art teacher comes across an antique wooden ...\n",
       "9981  Every now and then a film maker brings to life...\n",
       "9982  I always thought my father had a second life a...\n",
       "9983  If you are going to attempt building tension i...\n",
       "9984  Remember when Rick Mercer was funny? 22 Minute...\n",
       "9985  This short subject is a remake of the Three St...\n",
       "9986  <br /><br />\"After dark, my sweet\" is a strang...\n",
       "9987  I really appreciate what Jung-won had done bef...\n",
       "9988  I remember this film, exhibit in Barcelona (Sp...\n",
       "9989  \"Cinderella\" is one of the most beloved of all...\n",
       "9990  Running out of films to rent, I picked up Free...\n",
       "9991  \"World's Finest\" is an unique project. It's a ...\n",
       "9992  This movie deviated from the Bible and fell so...\n",
       "9993  Be careful with this one. Once you get yer mit...\n",
       "9994  God! Where do I begin? From start to finish, I...\n",
       "9995  Watched this piece ONDEMAND because the descri...\n",
       "9996  A nurse travels to a rural psychiatric clinic ...\n",
       "9997  Although this small film kind of got lost in t...\n",
       "9998  I first saw this film in the early 80's on cab...\n",
       "9999  Recognizing the picture of the diner on the co...\n",
       "\n",
       "[10000 rows x 1 columns]"
      ]
     },
     "execution_count": 52,
     "metadata": {
      "tags": []
     },
     "output_type": "execute_result"
    }
   ],
   "source": [
    "x_test = pd.read_csv(\"/content/Test.csv\")\n",
    "\n",
    "x_test"
   ]
  },
  {
   "cell_type": "code",
   "execution_count": 0,
   "metadata": {
    "colab": {},
    "colab_type": "code",
    "id": "ceTQ1T2GeZIq"
   },
   "outputs": [],
   "source": [
    "# Input of the text data\n",
    "test_review = x_test['review']"
   ]
  },
  {
   "cell_type": "code",
   "execution_count": 0,
   "metadata": {
    "colab": {},
    "colab_type": "code",
    "id": "rHBzjtkseZI0"
   },
   "outputs": [],
   "source": [
    "# cleaning the text data input\n",
    "cleantest = getclean(test_review)"
   ]
  },
  {
   "cell_type": "code",
   "execution_count": 0,
   "metadata": {
    "colab": {
     "base_uri": "https://localhost:8080/",
     "height": 1000
    },
    "colab_type": "code",
    "id": "oLEpSO2reZI6",
    "outputId": "94208ee2-4827-42fe-cc8a-b412cb23682e"
   },
   "outputs": [
    {
     "data": {
      "text/plain": [
       "0       rememb old kung fu movi use watch friday satur...\n",
       "1       movi anoth one list movi bother . saw 40 year ...\n",
       "2       world thing like get dvd player home ? even ge...\n",
       "3       `` queen damn '' one best vampir movi ever see...\n",
       "4       caprica episod ( s01e01 ) well done pilot . re...\n",
       "5       usual realli enjoy steven seagal movi . usual ...\n",
       "6       jiã¸ã­ trnka made last anim short indict total...\n",
       "7       bad contribut next bad movi parti go . clear s...\n",
       "8       watch hilari retro entertain career girl tale ...\n",
       "9       excel polit thriller , play much quieter slowe...\n",
       "10      *some spoilers*i pleasantli surpris find harsh...\n",
       "11      chaplin great silent comedian , mani silent er...\n",
       "12      caus take best part three film , cape fear , t...\n",
       "13      found horrorvis almost unwatch . 70 minut leng...\n",
       "14      clint howard , brother talent ron , star abysm...\n",
       "15      accord book last cowboy hero joel mccrea , aud...\n",
       "16      saw movi night honestli say 's one worst film ...\n",
       "17      quit good film version novel , though begin li...\n",
       "18      jess yet deliv , almost 12 month hype upcom pr...\n",
       "19      obvious n't see ! look cast see doug master ba...\n",
       "20      unfunni , unworthi pictur undeserv end peter s...\n",
       "21      caught first time night ago televis . expect t...\n",
       "22      saw movi berlin film festiv 's children 's pro...\n",
       "23      first all..i 've seen better act realist makeu...\n",
       "24      watch movi video night found doze throughout u...\n",
       "25      probabl worst bollywood film 've seen.no plot ...\n",
       "26      game ... . huh ... game . 'm even sure bloodi ...\n",
       "27      'll start right begin say `` like movi . '' 's...\n",
       "28      see sneak preview today angel & demon , clear ...\n",
       "29      meet cosmo ( jason priestley ) , nerdi young b...\n",
       "                              ...                        \n",
       "9970    even us like cute anim pictur -- - abhor -- -w...\n",
       "9971    movi better expect . work movi set short perio...\n",
       "9972    august days/di d'agost marc recha given us sun...\n",
       "9973    friend pick `` paperhous '' random pile movi w...\n",
       "9974    total honest n't expect much go 9 soul even re...\n",
       "9975    well written movi , actor exquisit way portray...\n",
       "9976    look back jim henson 's work year death like t...\n",
       "9977    oliv gruner total unknown . friend show film s...\n",
       "9978    here fun fact , babi movi , one crib . : ) 19 ...\n",
       "9979    movi would work much better first critter movi...\n",
       "9980    art teacher come across antiqu wooden bed made...\n",
       "9981    everi film maker bring life uniqu group peopl ...\n",
       "9982    alway thought father second life eagerli await...\n",
       "9983    go attempt build tension film alway good idea ...\n",
       "9984    rememb rick mercer funni ? 22 minut great show...\n",
       "9985    short subject remak three stoog ' 1942 film ``...\n",
       "9986    `` dark , sweet '' strang mix sensual dull . f...\n",
       "9987    realli appreci jung-won done death . everyth ....\n",
       "9988    rememb film , exhibit barcelona ( spain ) 1970...\n",
       "9989    `` cinderella '' one belov disney classic . re...\n",
       "9990    run film rent , pick freebird . struggl first ...\n",
       "9991    `` world 's finest '' uniqu project . 's trail...\n",
       "9992    movi deviat bibl fell bar 1956 movi . hate rep...\n",
       "9993    care one . get yer mitt , 'll chang way look k...\n",
       "9994    god ! begin ? start finish , could help hate m...\n",
       "9995    watch piec ondemand descript kind outlandish ....\n",
       "9996    nurs travel rural psychiatr clinic run doctor ...\n",
       "9997    although small film kind got lost wake waterfr...\n",
       "9998    first saw film earli 80 's cabl . uniqu statem...\n",
       "9999    recogn pictur diner cover dvd made realiz loca...\n",
       "Name: review, Length: 10000, dtype: object"
      ]
     },
     "execution_count": 57,
     "metadata": {
      "tags": []
     },
     "output_type": "execute_result"
    }
   ],
   "source": [
    "cleantest"
   ]
  },
  {
   "cell_type": "code",
   "execution_count": 0,
   "metadata": {
    "colab": {},
    "colab_type": "code",
    "id": "N76u5PazeZI_"
   },
   "outputs": [],
   "source": [
    "# converting the text in the form of vector\n",
    "x_te = cv.transform(cleantest).toarray()"
   ]
  },
  {
   "cell_type": "code",
   "execution_count": 0,
   "metadata": {
    "colab": {
     "base_uri": "https://localhost:8080/"
    },
    "colab_type": "code",
    "id": "lctI3miVeZJD",
    "outputId": "50e2024b-e649-4f25-ff5f-4110cc512a59"
   },
   "outputs": [
    {
     "data": {
      "text/plain": [
       "(10000, 15000)"
      ]
     },
     "execution_count": 59,
     "metadata": {
      "tags": []
     },
     "output_type": "execute_result"
    }
   ],
   "source": [
    "x_te.shape"
   ]
  },
  {
   "cell_type": "code",
   "execution_count": 0,
   "metadata": {
    "colab": {},
    "colab_type": "code",
    "id": "oOKwZo5_eZJG"
   },
   "outputs": [],
   "source": [
    "from sklearn.naive_bayes import MultinomialNB"
   ]
  },
  {
   "cell_type": "code",
   "execution_count": 0,
   "metadata": {
    "colab": {},
    "colab_type": "code",
    "id": "cLViJAE9eZJJ"
   },
   "outputs": [],
   "source": [
    "# naive bayes multinomial function\n",
    "mn = MultinomialNB()\n"
   ]
  },
  {
   "cell_type": "code",
   "execution_count": 0,
   "metadata": {
    "colab": {
     "base_uri": "https://localhost:8080/",
     "height": 34
    },
    "colab_type": "code",
    "id": "kdeQEXnxeZJO",
    "outputId": "f94561bf-cc29-4aa6-a7d6-c5260d9dc5cd"
   },
   "outputs": [
    {
     "data": {
      "text/plain": [
       "MultinomialNB(alpha=1.0, class_prior=None, fit_prior=True)"
      ]
     },
     "execution_count": 62,
     "metadata": {
      "tags": []
     },
     "output_type": "execute_result"
    }
   ],
   "source": [
    "# learning the weights by sending the input and output of the training file\n",
    "mn.fit(x_vec,ytrain)"
   ]
  },
  {
   "cell_type": "code",
   "execution_count": 0,
   "metadata": {
    "colab": {},
    "colab_type": "code",
    "id": "DW-uHROkeZJS"
   },
   "outputs": [],
   "source": [
    "#pridicting the output of the testing file by sending input  \n",
    "pred = mn.predict(x_te)"
   ]
  },
  {
   "cell_type": "code",
   "execution_count": 0,
   "metadata": {
    "colab": {},
    "colab_type": "code",
    "id": "4qaN67l7eZJV"
   },
   "outputs": [],
   "source": [
    "# converting the output back to the normal form\n",
    "pred = le.inverse_transform(pred)"
   ]
  },
  {
   "cell_type": "code",
   "execution_count": 0,
   "metadata": {
    "colab": {
     "base_uri": "https://localhost:8080/",
     "height": 34
    },
    "colab_type": "code",
    "id": "w5NUhgLweZJY",
    "outputId": "2c2aab14-116e-4abf-de31-74e887041773"
   },
   "outputs": [
    {
     "data": {
      "text/plain": [
       "array(['neg', 'neg', 'neg', ..., 'pos', 'pos', 'neg'], dtype=object)"
      ]
     },
     "execution_count": 65,
     "metadata": {
      "tags": []
     },
     "output_type": "execute_result"
    }
   ],
   "source": [
    "pred"
   ]
  },
  {
   "cell_type": "code",
   "execution_count": 0,
   "metadata": {
    "colab": {},
    "colab_type": "code",
    "id": "cpJorQ2CeZJa"
   },
   "outputs": [],
   "source": [
    "# saving output of testing file in the .csv format\n",
    "serial=[i for i in range(len(pred))]\n",
    "submit=pd.DataFrame({'id': serial,'label':pred})\n",
    "submit.to_csv('submission1.csv',index=False)"
   ]
  },
  {
   "cell_type": "code",
   "execution_count": 0,
   "metadata": {
    "colab": {
     "base_uri": "https://localhost:8080/",
     "height": 204
    },
    "colab_type": "code",
    "id": "zNNerRcriiPf",
    "outputId": "11f30358-d435-497a-95cb-848497db28ed"
   },
   "outputs": [
    {
     "data": {
      "text/html": [
       "<div>\n",
       "<style scoped>\n",
       "    .dataframe tbody tr th:only-of-type {\n",
       "        vertical-align: middle;\n",
       "    }\n",
       "\n",
       "    .dataframe tbody tr th {\n",
       "        vertical-align: top;\n",
       "    }\n",
       "\n",
       "    .dataframe thead th {\n",
       "        text-align: right;\n",
       "    }\n",
       "</style>\n",
       "<table border=\"1\" class=\"dataframe\">\n",
       "  <thead>\n",
       "    <tr style=\"text-align: right;\">\n",
       "      <th></th>\n",
       "      <th>id</th>\n",
       "      <th>label</th>\n",
       "    </tr>\n",
       "  </thead>\n",
       "  <tbody>\n",
       "    <tr>\n",
       "      <th>0</th>\n",
       "      <td>0</td>\n",
       "      <td>neg</td>\n",
       "    </tr>\n",
       "    <tr>\n",
       "      <th>1</th>\n",
       "      <td>1</td>\n",
       "      <td>neg</td>\n",
       "    </tr>\n",
       "    <tr>\n",
       "      <th>2</th>\n",
       "      <td>2</td>\n",
       "      <td>neg</td>\n",
       "    </tr>\n",
       "    <tr>\n",
       "      <th>3</th>\n",
       "      <td>3</td>\n",
       "      <td>neg</td>\n",
       "    </tr>\n",
       "    <tr>\n",
       "      <th>4</th>\n",
       "      <td>4</td>\n",
       "      <td>pos</td>\n",
       "    </tr>\n",
       "  </tbody>\n",
       "</table>\n",
       "</div>"
      ],
      "text/plain": [
       "   id label\n",
       "0   0   neg\n",
       "1   1   neg\n",
       "2   2   neg\n",
       "3   3   neg\n",
       "4   4   pos"
      ]
     },
     "execution_count": 67,
     "metadata": {
      "tags": []
     },
     "output_type": "execute_result"
    }
   ],
   "source": [
    "submit.head()"
   ]
  },
  {
   "cell_type": "code",
   "execution_count": 0,
   "metadata": {
    "colab": {},
    "colab_type": "code",
    "id": "aiRwHvylim4p"
   },
   "outputs": [],
   "source": []
  }
 ],
 "metadata": {
  "accelerator": "GPU",
  "colab": {
   "machine_shape": "hm",
   "name": "Untitled10.ipynb",
   "provenance": [],
   "version": "0.3.2"
  },
  "kernelspec": {
   "display_name": "Python 3",
   "language": "python",
   "name": "python3"
  },
  "language_info": {
   "codemirror_mode": {
    "name": "ipython",
    "version": 3
   },
   "file_extension": ".py",
   "mimetype": "text/x-python",
   "name": "python",
   "nbconvert_exporter": "python",
   "pygments_lexer": "ipython3",
   "version": "3.6.7"
  }
 },
 "nbformat": 4,
 "nbformat_minor": 1
}
